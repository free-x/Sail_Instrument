{
 "cells": [
  {
   "cell_type": "code",
   "execution_count": null,
   "id": "c7cab36c-b7a1-4c10-9ad4-abf8e5abe318",
   "metadata": {},
   "outputs": [],
   "source": [
    "%config InlineBackend.figure_formats = ['svg']\n",
    "%matplotlib inline\n",
    "import matplotlib.pyplot as plt\n",
    "import numpy as np\n",
    "import json"
   ]
  },
  {
   "cell_type": "code",
   "execution_count": null,
   "id": "a156e4b7-3d5d-4c09-a8ee-2e83e56741c4",
   "metadata": {},
   "outputs": [],
   "source": [
    "from Sail_Instrument import plugin"
   ]
  },
  {
   "cell_type": "code",
   "execution_count": null,
   "id": "c9f8e233-8758-4682-84c4-d5cb014143d2",
   "metadata": {},
   "outputs": [],
   "source": [
    "with open(\"Sail_Instrument/polar.json\") as f:\n",
    "    polar=json.load(f)"
   ]
  },
  {
   "cell_type": "code",
   "execution_count": null,
   "id": "285aa8dc-9fb0-41f3-bf01-47ac97c0c449",
   "metadata": {},
   "outputs": [],
   "source": [
    "fig = plt.figure(figsize=(10, 10))\n",
    "ax = fig.add_subplot(projection=\"polar\")\n",
    "ax.set_thetamax(180)\n",
    "ax.set_theta_zero_location(\"N\")\n",
    "ax.set_theta_direction(-1)\n",
    "\n",
    "twa = np.linspace(0, 180)\n",
    "twarad = np.radians(twa)\n",
    "\n",
    "for tws in polar[\"TWS\"]:\n",
    "    stw = [plugin.polar_speed(polar, a, tws) for a in twa]\n",
    "    p = ax.plot(twarad, stw, label=tws)\n",
    "\n",
    "plt.legend();"
   ]
  },
  {
   "cell_type": "code",
   "execution_count": null,
   "id": "703bf573-d0bf-4d5d-ae7c-3b2a3e50defd",
   "metadata": {},
   "outputs": [],
   "source": []
  }
 ],
 "metadata": {
  "kernelspec": {
   "display_name": "Python 3",
   "language": "python",
   "name": "python3"
  },
  "language_info": {
   "codemirror_mode": {
    "name": "ipython",
    "version": 3
   },
   "file_extension": ".py",
   "mimetype": "text/x-python",
   "name": "python",
   "nbconvert_exporter": "python",
   "pygments_lexer": "ipython3",
   "version": "3.11.6"
  }
 },
 "nbformat": 4,
 "nbformat_minor": 5
}
