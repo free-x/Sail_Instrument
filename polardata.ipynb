{
 "cells": [
  {
   "cell_type": "code",
   "execution_count": null,
   "id": "c7cab36c-b7a1-4c10-9ad4-abf8e5abe318",
   "metadata": {},
   "outputs": [],
   "source": [
    "%config InlineBackend.figure_formats = ['svg']\n",
    "%matplotlib inline\n",
    "import matplotlib.pyplot as plt\n",
    "import numpy as np\n",
    "import json"
   ]
  },
  {
   "cell_type": "code",
   "execution_count": null,
   "id": "a156e4b7-3d5d-4c09-a8ee-2e83e56741c4",
   "metadata": {},
   "outputs": [],
   "source": [
    "from Sail_Instrument import plugin"
   ]
  },
  {
   "cell_type": "code",
   "execution_count": null,
   "id": "c9f8e233-8758-4682-84c4-d5cb014143d2",
   "metadata": {},
   "outputs": [],
   "source": [
    "with open(\"Sail_Instrument/polar.json\") as f:\n",
    "    polar=json.load(f)"
   ]
  },
  {
   "cell_type": "code",
   "execution_count": null,
   "id": "dadbacb8-56ac-45bd-9df8-d1a0c1a32ad1",
   "metadata": {},
   "outputs": [],
   "source": [
    "with open(\"Sail_Instrument/heel.json\") as f:\n",
    "    heels=json.load(f)"
   ]
  },
  {
   "cell_type": "code",
   "execution_count": null,
   "id": "285aa8dc-9fb0-41f3-bf01-47ac97c0c449",
   "metadata": {},
   "outputs": [],
   "source": [
    "twa = np.linspace(0, 180,180)\n",
    "twarad = np.radians(twa)\n",
    "\n",
    "fig = plt.figure(figsize=(10,10))\n",
    "ax = fig.add_subplot(projection=\"polar\")\n",
    "#ax.set_thetamax(180)\n",
    "ax.set_theta_zero_location(\"N\")\n",
    "ax.set_theta_direction(-1)\n",
    "#ax.set_rlim(0,15)\n",
    "\n",
    "for tws in polar[\"TWS\"]:\n",
    "    stw = [plugin.polar_speed(polar, a, tws) for a in twa]\n",
    "    p = ax.plot(twarad, stw, label=f'STW @ {tws}')\n",
    "\n",
    "for tws in heels[\"TWS\"]:\n",
    "    stw = [plugin.polar_heel(heels, a, tws)/2 for a in twa]\n",
    "    p = ax.plot(-twarad, stw, linestyle=\"--\", label=f'heel @ {tws}')\n",
    "\n",
    "ax.set_title(\"heel/2 and water speed over TWA at different TWS\")\n",
    "ax.legend()\n",
    "plt.savefig(\"polar.png\")"
   ]
  },
  {
   "cell_type": "code",
   "execution_count": null,
   "id": "703bf573-d0bf-4d5d-ae7c-3b2a3e50defd",
   "metadata": {},
   "outputs": [],
   "source": [
    "tws = 10\n",
    "brg = 30\n",
    "\n",
    "twa = np.linspace(-180, 180, 360)\n",
    "twarad = np.radians(twa)\n",
    "\n",
    "stw = np.array([plugin.polar_speed(polar, a, tws) for a in twa])\n",
    "vmc = stw * np.cos(np.radians(brg - twa))\n",
    "\n",
    "ltwa, _ = plugin.optimum_vmc(polar, 0, tws, 0)\n",
    "ltwa = np.radians(ltwa)\n",
    "otwa, ovmc = plugin.optimum_vmc(polar, 0, tws, brg)\n",
    "\n",
    "rmax = abs(stw).max() + 0.5\n",
    "\n",
    "fig = plt.figure(figsize=(10, 10))\n",
    "ax = fig.add_subplot(projection=\"polar\")\n",
    "ax.set_theta_zero_location(\"N\")\n",
    "ax.set_theta_direction(-1)\n",
    "ax.set_rlim(0, rmax)\n",
    "ax.plot([0, np.radians(brg)], [0, rmax], label=\"BRG to waypoint\")\n",
    "ax.plot(twarad, stw, label=\"STW\")\n",
    "ax.plot([-ltwa, 0, ltwa], [rmax, 0, rmax], linestyle=\"--\", label=\"layline\")\n",
    "ax.plot([0, np.radians(otwa)], [0, rmax], label=\"opt. TWA\")\n",
    "ax.plot(twarad, vmc, label=\"VMC\")\n",
    "ax.plot(twarad, -vmc, linestyle=\"--\", label=\"neg. VMC\")\n",
    "ax.set_title(f\"VMC over TWA for TWS={tws} and waypoint BRG={brg} from TWD\")\n",
    "ax.legend()\n",
    "plt.savefig(\"vmc.png\")"
   ]
  },
  {
   "cell_type": "code",
   "execution_count": null,
   "id": "97f34cff-b17c-43d3-9183-b6164b339f72",
   "metadata": {},
   "outputs": [],
   "source": []
  }
 ],
 "metadata": {
  "kernelspec": {
   "display_name": "Python 3",
   "language": "python",
   "name": "python3"
  },
  "language_info": {
   "codemirror_mode": {
    "name": "ipython",
    "version": 3
   },
   "file_extension": ".py",
   "mimetype": "text/x-python",
   "name": "python",
   "nbconvert_exporter": "python",
   "pygments_lexer": "ipython3",
   "version": "3.11.6"
  }
 },
 "nbformat": 4,
 "nbformat_minor": 5
}
